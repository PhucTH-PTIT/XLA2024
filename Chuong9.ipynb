{
 "cells": [
  {
   "cell_type": "code",
   "execution_count": 6,
   "id": "41f92b66-816a-4c9d-8815-3f74e3bb9171",
   "metadata": {},
   "outputs": [
    {
     "name": "stdout",
     "output_type": "stream",
     "text": [
      "Trung bình của y (E{y}): [-0.07347135 -0.03618539  0.03320576]\n",
      "\n",
      "Ma trận hiệp phương sai thực nghiệm (C_y):\n",
      " [[1.84849743 0.49231818 0.01140657]\n",
      " [0.49231818 1.03562071 0.02818606]\n",
      " [0.01140657 0.02818606 0.48129696]]\n",
      "\n",
      "Ma trận hiệp phương sai lý thuyết (C_y):\n",
      " [[2.  0.5 0. ]\n",
      " [0.5 1.  0. ]\n",
      " [0.  0.  0.5]]\n",
      "\n",
      "Các giá trị riêng (λ): [0.5        0.79289322 2.20710678]\n"
     ]
    }
   ],
   "source": [
    "import numpy as np\n",
    "\n",
    "np.random.seed(42)  # Đảm bảo tái lập kết quả\n",
    "\n",
    "mean_x = np.zeros(3)  # Vector trung bình của x\n",
    "C_x = np.array([[2, 0.5, 0], [0.5, 1, 0], [0, 0, 0.5]])  \n",
    "\n",
    "A = np.array([[1, 0, 0], [0, 1, 0], [0, 0, 1]])  \n",
    "\n",
    "x_samples = np.random.multivariate_normal(mean_x, C_x, size=1000) \n",
    "y_samples = x_samples @ A.T  # Tính y = Ax\n",
    "\n",
    "mean_y = np.mean(y_samples, axis=0)\n",
    "print(\"Trung bình của y (E{y}):\", mean_y)\n",
    "\n",
    "C_y_experimental = np.cov(y_samples, rowvar=False)\n",
    "\n",
    "C_y_theoretical = A @ C_x @ A.T\n",
    "\n",
    "print(\"\\nMa trận hiệp phương sai thực nghiệm (C_y):\\n\", C_y_experimental)\n",
    "print(\"\\nMa trận hiệp phương sai lý thuyết (C_y):\\n\", C_y_theoretical)\n",
    "\n",
    "eigenvalues, _ = np.linalg.eigh(C_y_theoretical)  \n",
    "print(\"\\nCác giá trị riêng (λ):\", eigenvalues)\n"
   ]
  },
  {
   "cell_type": "code",
   "execution_count": 10,
   "id": "89c8660e-97a0-4844-88ab-85825e8dd844",
   "metadata": {},
   "outputs": [
    {
     "name": "stdout",
     "output_type": "stream",
     "text": [
      "Tần suất của các khối:\n",
      "(1, 1, 1, 0): 2\n",
      "(0, 1, 0, 1): 2\n",
      "(1, 0, 1, 1): 2\n",
      "(1, 0, 0, 1): 3\n",
      "(1, 1, 0, 1): 1\n",
      "(0, 0, 1, 1): 1\n",
      "(1, 1, 0, 0): 1\n",
      "(1, 0, 1, 0): 1\n",
      "(0, 0, 0, 1): 2\n",
      "(1, 1, 1, 1): 1\n",
      "\n",
      "Bảng mã Huffman:\n",
      "(1, 0, 0, 1): 00\n",
      "(1, 1, 1, 1): 0100\n",
      "(1, 1, 0, 1): 0101\n",
      "(0, 0, 0, 1): 011\n",
      "(0, 1, 0, 1): 100\n",
      "(1, 1, 1, 0): 101\n",
      "(1, 1, 0, 0): 1100\n",
      "(0, 0, 1, 1): 1101\n",
      "(1, 0, 1, 0): 1110\n",
      "(1, 0, 1, 1): 1111\n",
      "\n",
      "Chuỗi mã hóa Huffman:\n",
      "1011001111000101001001101101110011101111011010001100\n"
     ]
    }
   ],
   "source": [
    "import numpy as np\n",
    "from collections import Counter\n",
    "import heapq\n",
    "class Node:\n",
    "    def __init__(self, symbol, freq):\n",
    "        self.symbol = symbol\n",
    "        self.freq = freq\n",
    "        self.left = None\n",
    "        self.right = None\n",
    "\n",
    "    def __lt__(self, other):\n",
    "        return self.freq < other.freq\n",
    "\n",
    "def build_huffman_tree(frequencies):\n",
    "    heap = [Node(symbol, freq) for symbol, freq in frequencies.items()]\n",
    "    heapq.heapify(heap)\n",
    "\n",
    "    while len(heap) > 1:\n",
    "        node1 = heapq.heappop(heap)\n",
    "        node2 = heapq.heappop(heap)\n",
    "        merged = Node(None, node1.freq + node2.freq)\n",
    "        merged.left = node1\n",
    "        merged.right = node2\n",
    "        heapq.heappush(heap, merged)\n",
    "\n",
    "    return heap[0]\n",
    "\n",
    "def build_huffman_codes(tree, prefix=\"\", codebook={}):\n",
    "    if tree is not None:\n",
    "        if tree.symbol is not None:\n",
    "            codebook[tree.symbol] = prefix\n",
    "        build_huffman_codes(tree.left, prefix + \"0\", codebook)\n",
    "        build_huffman_codes(tree.right, prefix + \"1\", codebook)\n",
    "    return codebook\n",
    "I = np.array([\n",
    "    [1, 1, 0, 1, 1, 0, 1, 0],\n",
    "    [1, 0, 0, 1, 1, 1, 0, 1],\n",
    "    [1, 1, 1, 0, 0, 1, 0, 0],\n",
    "    [0, 1, 0, 1, 0, 1, 1, 1],\n",
    "    [1, 1, 1, 1, 1, 0, 1, 0],\n",
    "    [1, 0, 0, 0, 1, 0, 1, 1],\n",
    "    [0, 0, 1, 1, 0, 0, 1, 0],\n",
    "    [0, 1, 1, 1, 0, 1, 0, 1]])\n",
    "blocks = []\n",
    "rows, cols = I.shape\n",
    "for i in range(0, rows, 2):\n",
    "    for j in range(0, cols, 2):\n",
    "        block = tuple(I[i:i+2, j:j+2].flatten())\n",
    "        blocks.append(block)\n",
    "\n",
    "frequencies = Counter(blocks)\n",
    "\n",
    "huffman_tree = build_huffman_tree(frequencies)\n",
    "\n",
    "huffman_codes = build_huffman_codes(huffman_tree)\n",
    "\n",
    "encoded_image = \"\".join([huffman_codes[block] for block in blocks])\n",
    "\n",
    "print(\"Tần suất của các khối:\")\n",
    "for block, freq in frequencies.items():\n",
    "    print(f\"{block}: {freq}\")\n",
    "\n",
    "print(\"\\nBảng mã Huffman:\")\n",
    "for symbol, code in huffman_codes.items():\n",
    "    print(f\"{symbol}: {code}\")\n",
    "\n",
    "print(\"\\nChuỗi mã hóa Huffman:\")\n",
    "print(encoded_image)\n"
   ]
  },
  {
   "cell_type": "code",
   "execution_count": null,
   "id": "4762d9b5-885a-4c3c-a461-0d5cb62f9de2",
   "metadata": {},
   "outputs": [],
   "source": [
    "def run_length_encoding(data):\n",
    "    encoded = \"\"\n",
    "    count = 1\n",
    "    \n",
    "    for i in range(1, len(data)):\n",
    "        if data[i] == data[i - 1]:\n",
    "            count += 1\n",
    "        else:\n",
    "            encoded += f\"{data[i - 1]}{count}\"\n",
    "            count = 1\n",
    "    \n",
    "    # Xử lý ký tự cuối cùng\n",
    "    if data:\n",
    "        encoded += f\"{data[-1]}{count}\"\n",
    "    return encoded\n",
    "\n",
    "# Nhập dữ liệu\n",
    "print(\"Input:\")\n",
    "data = input().strip()\n",
    "\n",
    "# Xuất kết quả\n",
    "if data:\n",
    "    result = run_length_encoding(data)\n",
    "    print(\"Output:\")\n",
    "    print(result)\n",
    "else:\n",
    "    print(\"Output:\")\n",
    "    print(\"\")  # Xử lý chuỗi rỗng\n"
   ]
  },
  {
   "cell_type": "code",
   "execution_count": 11,
   "id": "9cfde73b-fa79-4cf4-9922-6755fcdccd64",
   "metadata": {},
   "outputs": [
    {
     "name": "stdout",
     "output_type": "stream",
     "text": [
      "A4B3C2D1A2\n"
     ]
    }
   ],
   "source": [
    "def run_length_encoding(data):\n",
    "    encoded = \"\"\n",
    "    count = 1\n",
    "    \n",
    "    for i in range(1, len(data)):\n",
    "        if data[i] == data[i - 1]:\n",
    "            count += 1\n",
    "        else:\n",
    "            encoded += f\"{data[i - 1]}{count}\"\n",
    "            count = 1\n",
    "    \n",
    "    # Thêm ký tự cuối cùng\n",
    "    encoded += f\"{data[-1]}{count}\"\n",
    "    return encoded\n",
    "\n",
    "\n",
    "# Input\n",
    "case = 1\n",
    "data = \"AAAABBBCCDAA\"\n",
    "\n",
    "# Output\n",
    "result = run_length_encoding(data)\n",
    "print(result)\n"
   ]
  },
  {
   "cell_type": "code",
   "execution_count": 3,
   "id": "2fc14f74-dfd2-4182-9416-ba91831d8b32",
   "metadata": {},
   "outputs": [
    {
     "data": {
      "image/png": "[encoded data removed]",
      "text/plain": [
       "<Figure size 2000x400 with 1 Axes>"
      ]
     },
     "metadata": {},
     "output_type": "display_data"
    },
    {
     "data": {
      "image/png": "[encoded data removed]",
      "text/plain": [
       "<Figure size 640x480 with 1 Axes>"
      ]
     },
     "metadata": {},
     "output_type": "display_data"
    },
    {
     "data": {
      "image/png": "[encoded data removed]",
      "text/plain": [
       "<Figure size 640x480 with 1 Axes>"
      ]
     },
     "metadata": {},
     "output_type": "display_data"
    },
    {
     "data": {
      "image/png": "[encoded data removed]",
      "text/plain": [
       "<Figure size 640x480 with 1 Axes>"
      ]
     },
     "metadata": {},
     "output_type": "display_data"
    },
    {
     "data": {
      "image/png": "[encoded data removed]",
      "text/plain": [
       "<Figure size 640x480 with 1 Axes>"
      ]
     },
     "metadata": {},
     "output_type": "display_data"
    },
    {
     "data": {
      "image/png": "[encoded data removed]",
      "text/plain": [
       "<Figure size 640x480 with 1 Axes>"
      ]
     },
     "metadata": {},
     "output_type": "display_data"
    },
    {
     "data": {
      "image/png": "[encoded data removed]",
      "text/plain": [
       "<Figure size 640x480 with 1 Axes>"
      ]
     },
     "metadata": {},
     "output_type": "display_data"
    },
    {
     "data": {
      "image/png": "[encoded data removed]",
      "text/plain": [
       "<Figure size 640x480 with 1 Axes>"
      ]
     },
     "metadata": {},
     "output_type": "display_data"
    },
    {
     "data": {
      "image/png": "[encoded data removed]",
      "text/plain": [
       "<Figure size 640x480 with 1 Axes>"
      ]
     },
     "metadata": {},
     "output_type": "display_data"
    },
    {
     "data": {
      "image/png": "[encoded data removed]",
      "text/plain": [
       "<Figure size 640x480 with 1 Axes>"
      ]
     },
     "metadata": {},
     "output_type": "display_data"
    },
    {
     "data": {
      "image/png": "[encoded data removed]",
      "text/plain": [
       "<Figure size 640x480 with 1 Axes>"
      ]
     },
     "metadata": {},
     "output_type": "display_data"
    },
    {
     "data": {
      "image/png": "[encoded data removed]",
      "text/plain": [
       "<Figure size 640x480 with 1 Axes>"
      ]
     },
     "metadata": {},
     "output_type": "display_data"
    },
    {
     "data": {
      "image/png": "[encoded data removed]",
      "text/plain": [
       "<Figure size 640x480 with 1 Axes>"
      ]
     },
     "metadata": {},
     "output_type": "display_data"
    },
    {
     "data": {
      "image/png": "[encoded data removed]",
      "text/plain": [
       "<Figure size 640x480 with 1 Axes>"
      ]
     },
     "metadata": {},
     "output_type": "display_data"
    },
    {
     "data": {
      "image/png": "[encoded data removed]",
      "text/plain": [
       "<Figure size 640x480 with 1 Axes>"
      ]
     },
     "metadata": {},
     "output_type": "display_data"
    },
    {
     "data": {
      "image/png": "[encoded data removed]",
      "text/plain": [
       "<Figure size 640x480 with 1 Axes>"
      ]
     },
     "metadata": {},
     "output_type": "display_data"
    },
    {
     "data": {
      "image/png": "[encoded data removed]",
      "text/plain": [
       "<Figure size 640x480 with 1 Axes>"
      ]
     },
     "metadata": {},
     "output_type": "display_data"
    },
    {
     "data": {
      "image/png": "[encoded data removed]",
      "text/plain": [
       "<Figure size 640x480 with 1 Axes>"
      ]
     },
     "metadata": {},
     "output_type": "display_data"
    },
    {
     "data": {
      "image/png": "[encoded data removed]",
      "text/plain": [
       "<Figure size 640x480 with 1 Axes>"
      ]
     },
     "metadata": {},
     "output_type": "display_data"
    },
    {
     "data": {
      "image/png": "[encoded data removed]",
      "text/plain": [
       "<Figure size 640x480 with 1 Axes>"
      ]
     },
     "metadata": {},
     "output_type": "display_data"
    },
    {
     "data": {
      "image/png": "[encoded data removed]",
      "text/plain": [
       "<Figure size 640x480 with 1 Axes>"
      ]
     },
     "metadata": {},
     "output_type": "display_data"
    },
    {
     "data": {
      "image/png": "[encoded data removed]",
      "text/plain": [
       "<Figure size 640x480 with 1 Axes>"
      ]
     },
     "metadata": {},
     "output_type": "display_data"
    },
    {
     "data": {
      "image/png": "[encoded data removed]",
      "text/plain": [
       "<Figure size 640x480 with 1 Axes>"
      ]
     },
     "metadata": {},
     "output_type": "display_data"
    },
    {
     "data": {
      "image/png": "[encoded data removed]",
      "text/plain": [
       "<Figure size 640x480 with 1 Axes>"
      ]
     },
     "metadata": {},
     "output_type": "display_data"
    },
    {
     "data": {
      "image/png": "[encoded data removed]",
      "text/plain": [
       "<Figure size 640x480 with 1 Axes>"
      ]
     },
     "metadata": {},
     "output_type": "display_data"
    },
    {
     "data": {
      "text/plain": [
       "<Figure size 640x480 with 0 Axes>"
      ]
     },
     "metadata": {},
     "output_type": "display_data"
    }
   ],
   "source": [
    "%matplotlib inline\n",
    "import matplotlib.pyplot as plt\n",
    "import gzip, os, sys\n",
    "import numpy as np\n",
    "from scipy.stats import multivariate_normal\n",
    "\n",
    "# Function to load MNIST images from your machine\n",
    "def load_mnist_images(filename):\n",
    "    with gzip.open(filename, 'rb') as f:\n",
    "        data = np.frombuffer(f.read(), np.uint8, offset=16)\n",
    "    data = data.reshape(-1, 784)  # Flatten images to vectors of size 784 (28x28)\n",
    "    return data\n",
    "\n",
    "# Function to load MNIST labels from your machine\n",
    "def load_mnist_labels(filename):\n",
    "    with gzip.open(filename, 'rb') as f:\n",
    "        data = np.frombuffer(f.read(), np.uint8, offset=8)\n",
    "    return data\n",
    "\n",
    "# Load the training set\n",
    "train_data = load_mnist_images(r'C:\\Users\\ngtrd\\Downloads\\train-images-idx3-ubyte.gz')  # Change to your local path\n",
    "train_labels = load_mnist_labels(r'C:\\Users\\ngtrd\\Downloads\\train-labels-idx1-ubyte.gz')  # Change to your local path\n",
    "\n",
    "# Load the testing set\n",
    "test_data = load_mnist_images(r'C:\\Users\\ngtrd\\Downloads\\t10k-images-idx3-ubyte.gz')  # Change to your local path\n",
    "test_labels = load_mnist_labels(r'C:\\Users\\ngtrd\\Downloads\\t10k-labels-idx1-ubyte.gz')  # Change to your local path\n",
    "\n",
    "# Define a function that displays a digit given its vector representation\n",
    "def show_digit(x, label):\n",
    "    plt.axis('off')\n",
    "    plt.imshow(x.reshape((28, 28)), cmap=plt.cm.gray)\n",
    "    plt.title('Label ' + str(label))\n",
    "\n",
    "# Define a function that takes an index into a particular data set (\"train\" or \"test\") and displays that image.\n",
    "def vis_image(index, dataset=\"train\"):\n",
    "    if dataset == \"train\":\n",
    "        label = train_labels[index]\n",
    "        show_digit(train_data[index], label)\n",
    "    else:\n",
    "        label = test_labels[index]\n",
    "        show_digit(test_data[index], label)\n",
    "    plt.show()\n",
    "\n",
    "# Display 25 images from the test set in 1 row (1x25)\n",
    "plt.figure(figsize=(20, 4))  # Adjust the figure size to accommodate 25 images in one row\n",
    "for i in range(25):\n",
    "    plt.subplot(1, 25, i + 1)  # 1 row and 25 columns\n",
    "    vis_image(i, dataset=\"test\")\n",
    "plt.tight_layout()\n",
    "plt.show()\n"
   ]
  },
  {
   "cell_type": "code",
   "execution_count": null,
   "id": "58a7ece2-ed85-4cc8-874e-a45d34f5c42d",
   "metadata": {},
   "outputs": [],
   "source": []
  }
 ],
 "metadata": {
  "kernelspec": {
   "display_name": "Python 3 (ipykernel)",
   "language": "python",
   "name": "python3"
  },
  "language_info": {
   "codemirror_mode": {
    "name": "ipython",
    "version": 3
   },
   "file_extension": ".py",
   "mimetype": "text/x-python",
   "name": "python",
   "nbconvert_exporter": "python",
   "pygments_lexer": "ipython3",
   "version": "3.12.7"
  }
 },
 "nbformat": 4,
 "nbformat_minor": 5
}
