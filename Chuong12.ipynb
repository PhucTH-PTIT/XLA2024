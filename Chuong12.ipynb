{
 "cells": [
  {
   "cell_type": "code",
   "execution_count": 18,
   "id": "b974d65b-ca50-458f-877c-5c5cf97f9987",
   "metadata": {},
   "outputs": [],
   "source": [
    "import cv2\n",
    "import numpy as np\n",
    "from skimage.filters import sobel\n",
    "def read_image(image_path):\n",
    "    img = cv2.imread(image_path, cv2.IMREAD_COLOR)\n",
    "    gray = cv2.cvtColor(img, cv2.COLOR_BGR2GRAY)\n",
    "    return img, gray\n",
    "\n",
    "def compute_energy_map(gray_img):\n",
    "    return sobel(gray_img)\n",
    "\n",
    "def find_seam(energy_map):\n",
    "    rows, cols = energy_map.shape\n",
    "    seam = np.zeros(rows, dtype=np.int32)\n",
    " \n",
    "    energy_table = np.copy(energy_map)\n",
    "    for row in range(1, rows):\n",
    "        for col in range(1, cols-1):\n",
    "            min_energy = min(energy_table[row-1, col-1], energy_table[row-1, col], energy_table[row-1, col+1])\n",
    "            energy_table[row, col] += min_energy\n",
    "    \n",
    "    seam[rows-1] = np.argmin(energy_table[rows-1])\n",
    "    for row in range(rows-2, -1, -1):\n",
    "        prev_col = seam[row+1]\n",
    "        if prev_col == 0:\n",
    "            seam[row] = np.argmin(energy_table[row, prev_col:prev_col+2])\n",
    "        else:\n",
    "            seam[row] = np.argmin(energy_table[row, prev_col-1:prev_col+2]) + prev_col-1\n",
    "    \n",
    "    return seam\n",
    "\n",
    "def remove_seam(img, seam):\n",
    "    rows, cols = img.shape[:2]\n",
    "    for row in range(rows):\n",
    "        col = seam[row]\n",
    "        img[row, col:cols-1] = img[row, col+1:cols]\n",
    "    return img[:, :cols-1]\n",
    "\n",
    "# Đọc và xử lý 3 ảnh\n",
    "image_paths = [\n",
    "    \"C:/Users/ngtrd/Desktop/Sandipan_Dey_2018_Sample_Images/images/messi.jpg\",\n",
    "    \"C:/Users/ngtrd/Desktop/Sandipan_Dey_2018_Sample_Images/images/ronaldo.jpg\",\n",
    "    \"C:/Users/ngtrd/Desktop/Sandipan_Dey_2018_Sample_Images/images/aero.jpg\"\n",
    "]\n",
    "\n",
    "for path in image_paths:\n",
    "    img, gray = read_image(path)\n",
    "    \n",
    "    energy_map = compute_energy_map(gray)\n",
    "    \n",
    "    seam = find_seam(energy_map)\n",
    "    result = remove_seam(img, seam)\n",
    "    \n",
    "    cv2.imshow(f'Seam Carved Image - {path.split(\"/\")[-1]}', result)\n",
    "    cv2.waitKey(0)\n",
    "\n",
    "cv2.destroyAllWindows()\n"
   ]
  },
  {
   "cell_type": "code",
   "execution_count": null,
   "id": "8daaebb3-8aec-4fc4-8003-d0fe73efad62",
   "metadata": {},
   "outputs": [],
   "source": []
  },
  {
   "cell_type": "code",
   "execution_count": null,
   "id": "a727df48-e878-44e1-b784-ecc50a3f626c",
   "metadata": {},
   "outputs": [],
   "source": []
  },
  {
   "cell_type": "code",
   "execution_count": null,
   "id": "1915533e-1b3a-418b-8858-986486ef1c2b",
   "metadata": {},
   "outputs": [],
   "source": []
  },
  {
   "cell_type": "code",
   "execution_count": null,
   "id": "dd0681de-27f4-4f1e-af19-4947eebd814b",
   "metadata": {},
   "outputs": [],
   "source": []
  }
 ],
 "metadata": {
  "kernelspec": {
   "display_name": "Python 3 (ipykernel)",
   "language": "python",
   "name": "python3"
  },
  "language_info": {
   "codemirror_mode": {
    "name": "ipython",
    "version": 3
   },
   "file_extension": ".py",
   "mimetype": "text/x-python",
   "name": "python",
   "nbconvert_exporter": "python",
   "pygments_lexer": "ipython3",
   "version": "3.12.7"
  }
 },
 "nbformat": 4,
 "nbformat_minor": 5
}
