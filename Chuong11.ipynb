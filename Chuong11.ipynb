{
 "cells": [
  {
   "cell_type": "code",
   "execution_count": 17,
   "id": "b974d65b-ca50-458f-877c-5c5cf97f9987",
   "metadata": {},
   "outputs": [],
   "source": [
    "import cv2\n",
    "import numpy as np\n",
    "net = cv2.dnn.readNet('C:/Users/ngtrd/Downloads/XLAN3FA24/yolov3.weights', 'C:/Users/ngtrd/Downloads/XLAN3FA24/yolov3.cfg')\n",
    "with open('C:/Users/ngtrd/Downloads/XLAN3FA24/coco.names', 'r') as f:\n",
    "    classes = f.read().strip().split('\\n')\n",
    "\n",
    "\n",
    "image_paths = [\n",
    "    \"C:/Users/ngtrd/Desktop/Sandipan_Dey_2018_Sample_Images/images/me4.jpg\",\n",
    "    \"C:/Users/ngtrd/Desktop/Sandipan_Dey_2018_Sample_Images/images/horse.jpg\",\n",
    "    \"C:/Users/ngtrd/Desktop/Sandipan_Dey_2018_Sample_Images/images/aero.jpg\"\n",
    "]\n",
    "\n",
    "for path in image_paths:\n",
    "    img = cv2.imread(path)\n",
    "    height, width = img.shape[:2]\n",
    "\n",
    "    blob = cv2.dnn.blobFromImage(img, scalefactor=1/255.0, size=(416, 416), swapRB=True, crop=False)\n",
    "    net.setInput(blob)\n",
    "\n",
    "    layer_names = net.getUnconnectedOutLayersNames()\n",
    "    detections = net.forward(layer_names)\n",
    "\n",
    "    for detection in detections:\n",
    "        for obj in detection:\n",
    "            scores = obj[5:]\n",
    "            class_id = np.argmax(scores)\n",
    "            confidence = scores[class_id]\n",
    "            if confidence > 0.5:  # Chỉ giữ các phát hiện có độ tin cậy cao\n",
    "                center_x, center_y, w, h = (obj[0:4] * [width, height, width, height]).astype('int')\n",
    "                x, y = int(center_x - w / 2), int(center_y - h / 2)\n",
    "\n",
    "                cv2.rectangle(img, (x, y), (x + w, y + h), (0, 255, 0), 2)\n",
    "                # Ghi nhãn và độ tin cậy\n",
    "                cv2.putText(img, f\"{classes[class_id]}: {confidence:.2f}\", (x, y - 5), cv2.FONT_HERSHEY_SIMPLEX, 0.5, (255, 0, 0), 2)\n",
    "\n",
    "    cv2.imshow(f\"Object Detection - {path.split('/')[-1]}\", img)\n",
    "    cv2.waitKey(0)\n",
    "\n",
    "cv2.destroyAllWindows()\n"
   ]
  },
  {
   "cell_type": "code",
   "execution_count": null,
   "id": "8daaebb3-8aec-4fc4-8003-d0fe73efad62",
   "metadata": {},
   "outputs": [],
   "source": []
  },
  {
   "cell_type": "code",
   "execution_count": null,
   "id": "a727df48-e878-44e1-b784-ecc50a3f626c",
   "metadata": {},
   "outputs": [],
   "source": []
  },
  {
   "cell_type": "code",
   "execution_count": null,
   "id": "1915533e-1b3a-418b-8858-986486ef1c2b",
   "metadata": {},
   "outputs": [],
   "source": []
  },
  {
   "cell_type": "code",
   "execution_count": null,
   "id": "dd0681de-27f4-4f1e-af19-4947eebd814b",
   "metadata": {},
   "outputs": [],
   "source": []
  }
 ],
 "metadata": {
  "kernelspec": {
   "display_name": "Python 3 (ipykernel)",
   "language": "python",
   "name": "python3"
  },
  "language_info": {
   "codemirror_mode": {
    "name": "ipython",
    "version": 3
   },
   "file_extension": ".py",
   "mimetype": "text/x-python",
   "name": "python",
   "nbconvert_exporter": "python",
   "pygments_lexer": "ipython3",
   "version": "3.12.7"
  }
 },
 "nbformat": 4,
 "nbformat_minor": 5
}
